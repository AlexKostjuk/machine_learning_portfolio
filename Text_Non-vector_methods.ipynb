{
 "cells": [
  {
   "metadata": {
    "ExecuteTime": {
     "end_time": "2025-03-08T16:39:31.993079Z",
     "start_time": "2025-03-08T16:39:31.982898Z"
    }
   },
   "cell_type": "code",
   "source": [
    "import pandas as pd\n",
    "from sklearn.model_selection import train_test_split\n",
    "from sklearn.neighbors import KNeighborsClassifier\n",
    "from sklearn.metrics import accuracy_score, classification_report, confusion_matrix, precision_score\n",
    "import matplotlib.pyplot as plt\n",
    "import seaborn as sns\n",
    "from sklearn.linear_model import RidgeClassifier, LogisticRegression\n",
    "from bs4 import BeautifulSoup\n",
    "import re\n",
    "import nltk\n",
    "from nltk.stem import WordNetLemmatizer\n",
    "from sklearn.feature_extraction.text import CountVectorizer, TfidfVectorizer\n",
    "\n",
    "\n",
    "# from google.colab import drive\n",
    "\n",
    "\n"
   ],
   "id": "d35adf3a9d5503b",
   "outputs": [],
   "execution_count": 80
  },
  {
   "metadata": {
    "ExecuteTime": {
     "end_time": "2025-03-08T17:52:50.240603Z",
     "start_time": "2025-03-08T17:52:50.234813Z"
    }
   },
   "cell_type": "code",
   "source": [
    "# from google.colab import drive\n",
    "# drive.mount('/content/drive')"
   ],
   "id": "30bc805b86cccf33",
   "outputs": [],
   "execution_count": 100
  },
  {
   "metadata": {
    "ExecuteTime": {
     "end_time": "2025-03-08T15:17:22.554366Z",
     "start_time": "2025-03-08T15:17:10.158622Z"
    }
   },
   "cell_type": "code",
   "source": [
    "nltk.download('punkt_tab')\n",
    "nltk.download('wordnet')"
   ],
   "id": "de853aae15d75dcf",
   "outputs": [
    {
     "name": "stderr",
     "output_type": "stream",
     "text": [
      "[nltk_data] Downloading package punkt_tab to\n",
      "[nltk_data]     C:\\Users\\Alex\\AppData\\Roaming\\nltk_data...\n",
      "[nltk_data]   Unzipping tokenizers\\punkt_tab.zip.\n",
      "[nltk_data] Downloading package wordnet to\n",
      "[nltk_data]     C:\\Users\\Alex\\AppData\\Roaming\\nltk_data...\n"
     ]
    },
    {
     "data": {
      "text/plain": [
       "True"
      ]
     },
     "execution_count": 12,
     "metadata": {},
     "output_type": "execute_result"
    }
   ],
   "execution_count": 12
  },
  {
   "metadata": {
    "ExecuteTime": {
     "end_time": "2025-03-08T15:17:25.509648Z",
     "start_time": "2025-03-08T15:17:25.505250Z"
    }
   },
   "cell_type": "code",
   "source": "lemmatizer = WordNetLemmatizer()\n",
   "id": "66b6bebbfbb44fd7",
   "outputs": [],
   "execution_count": 13
  },
  {
   "metadata": {
    "ExecuteTime": {
     "end_time": "2025-03-08T15:21:01.448497Z",
     "start_time": "2025-03-08T15:20:52.201544Z"
    }
   },
   "cell_type": "code",
   "source": [
    "with open('/content/drive/MyDrive/stop_words', 'r') as file:\n",
    "    custom_stop_words = set(lemmatizer.lemmatize(line.strip()) for line in file if line.strip())\n"
   ],
   "id": "1035b52a29e02acd",
   "outputs": [],
   "execution_count": 15
  },
  {
   "metadata": {
    "ExecuteTime": {
     "end_time": "2025-03-08T15:21:21.740813Z",
     "start_time": "2025-03-08T15:21:21.733172Z"
    }
   },
   "cell_type": "code",
   "source": [
    "with open('data/stop_words', 'r') as file:\n",
    "    custom_stop_words = set(lemmatizer.lemmatize(line.strip()) for line in file if line.strip())"
   ],
   "id": "6768b2b84dc403f0",
   "outputs": [],
   "execution_count": 17
  },
  {
   "metadata": {
    "ExecuteTime": {
     "end_time": "2025-03-08T17:54:49.420147Z",
     "start_time": "2025-03-08T17:54:48.673685Z"
    }
   },
   "cell_type": "code",
   "source": [
    "IMDB = pd.read_csv('data/IMDB Dataset.csv')\n",
    "\n",
    "# IMDB = pd.read_csv('/content/drive/MyDrive/IMDB Dataset.csv')\n",
    "\n",
    "IMDB.head()"
   ],
   "id": "fe510293eaed852c",
   "outputs": [
    {
     "data": {
      "text/plain": [
       "                                              review sentiment\n",
       "0  One of the other reviewers has mentioned that ...  positive\n",
       "1  A wonderful little production. <br /><br />The...  positive\n",
       "2  I thought this was a wonderful way to spend ti...  positive\n",
       "3  Basically there's a family where a little boy ...  negative\n",
       "4  Petter Mattei's \"Love in the Time of Money\" is...  positive"
      ],
      "text/html": [
       "<div>\n",
       "<style scoped>\n",
       "    .dataframe tbody tr th:only-of-type {\n",
       "        vertical-align: middle;\n",
       "    }\n",
       "\n",
       "    .dataframe tbody tr th {\n",
       "        vertical-align: top;\n",
       "    }\n",
       "\n",
       "    .dataframe thead th {\n",
       "        text-align: right;\n",
       "    }\n",
       "</style>\n",
       "<table border=\"1\" class=\"dataframe\">\n",
       "  <thead>\n",
       "    <tr style=\"text-align: right;\">\n",
       "      <th></th>\n",
       "      <th>review</th>\n",
       "      <th>sentiment</th>\n",
       "    </tr>\n",
       "  </thead>\n",
       "  <tbody>\n",
       "    <tr>\n",
       "      <th>0</th>\n",
       "      <td>One of the other reviewers has mentioned that ...</td>\n",
       "      <td>positive</td>\n",
       "    </tr>\n",
       "    <tr>\n",
       "      <th>1</th>\n",
       "      <td>A wonderful little production. &lt;br /&gt;&lt;br /&gt;The...</td>\n",
       "      <td>positive</td>\n",
       "    </tr>\n",
       "    <tr>\n",
       "      <th>2</th>\n",
       "      <td>I thought this was a wonderful way to spend ti...</td>\n",
       "      <td>positive</td>\n",
       "    </tr>\n",
       "    <tr>\n",
       "      <th>3</th>\n",
       "      <td>Basically there's a family where a little boy ...</td>\n",
       "      <td>negative</td>\n",
       "    </tr>\n",
       "    <tr>\n",
       "      <th>4</th>\n",
       "      <td>Petter Mattei's \"Love in the Time of Money\" is...</td>\n",
       "      <td>positive</td>\n",
       "    </tr>\n",
       "  </tbody>\n",
       "</table>\n",
       "</div>"
      ]
     },
     "execution_count": 102,
     "metadata": {},
     "output_type": "execute_result"
    }
   ],
   "execution_count": 102
  },
  {
   "metadata": {
    "ExecuteTime": {
     "end_time": "2025-03-08T17:53:45.477421Z",
     "start_time": "2025-03-08T17:53:45.455638Z"
    }
   },
   "cell_type": "code",
   "source": "IMDB.info()",
   "id": "df2b9387dbfbc9e7",
   "outputs": [
    {
     "name": "stdout",
     "output_type": "stream",
     "text": [
      "<class 'pandas.core.frame.DataFrame'>\n",
      "RangeIndex: 50000 entries, 0 to 49999\n",
      "Data columns (total 2 columns):\n",
      " #   Column     Non-Null Count  Dtype \n",
      "---  ------     --------------  ----- \n",
      " 0   review     50000 non-null  object\n",
      " 1   sentiment  50000 non-null  int64 \n",
      "dtypes: int64(1), object(1)\n",
      "memory usage: 781.4+ KB\n"
     ]
    }
   ],
   "execution_count": 101
  },
  {
   "metadata": {
    "ExecuteTime": {
     "end_time": "2025-03-08T17:55:21.646120Z",
     "start_time": "2025-03-08T17:55:21.375658Z"
    }
   },
   "cell_type": "code",
   "source": [
    "plt.figure(figsize=(4, 6))\n",
    "sns.histplot(IMDB['sentiment'], bins=3)\n",
    "plt.title(\"Distribution of sentiment in IMDB Dataset\")\n",
    "plt.xlabel(\"sentiment\")\n",
    "plt.ylabel(\"Count\")\n",
    "# plt.xticks(ticks=IMDB['sentiment'].unique(), labels=IMDB['sentiment'].unique())\n",
    "\n",
    "plt.show()"
   ],
   "id": "45b2afebd7c3ee07",
   "outputs": [
    {
     "data": {
      "text/plain": [
       "<Figure size 400x600 with 1 Axes>"
      ],
      "image/png": "[encoded data removed]"
     },
     "metadata": {},
     "output_type": "display_data"
    }
   ],
   "execution_count": 104
  },
  {
   "metadata": {},
   "cell_type": "markdown",
   "source": [
    "Бачимо що розподіл добрий\n",
    "та що маємо 2 таргета\n"
   ],
   "id": "dcb2beeeef374f6a"
  },
  {
   "metadata": {
    "ExecuteTime": {
     "end_time": "2025-03-08T17:20:31.088856Z",
     "start_time": "2025-03-08T17:20:31.082072Z"
    }
   },
   "cell_type": "code",
   "source": [
    "def preprocess_text(text):\n",
    "    \"\"\"видалення HTML, видалення URL, видалення шляхів до файлів\"\"\"\n",
    "    text = re.sub(r'http[s]?://(?:[a-zA-Z]|[0-9]|[$-_@.&+]|[!*\\\\(\\\\),]|(?:%[0-9a-fA-F][0-9a-fA-F]))+', '', text)\n",
    "    text = re.sub(r'(?:[A-Za-z]:\\\\|[/\\\\])\\S+', '', text)\n",
    "    soup = BeautifulSoup(text, 'html.parser')\n",
    "    return soup.get_text()\n",
    "\n",
    "def custom_tokenizer(text):\n",
    "    \"\"\"токенізація та лематизація\"\"\"\n",
    "    tokens = nltk.word_tokenize(text)\n",
    "    tokens = [lemmatizer.lemmatize(token) for token in tokens]\n",
    "    return tokens"
   ],
   "id": "88bf0730bf00cd92",
   "outputs": [],
   "execution_count": 91
  },
  {
   "metadata": {
    "ExecuteTime": {
     "end_time": "2025-03-08T15:22:04.372083Z",
     "start_time": "2025-03-08T15:22:04.355417Z"
    }
   },
   "cell_type": "code",
   "source": [
    "IMDB['sentiment'] = IMDB['sentiment'].map({'positive': 1, 'negative': 0})\n",
    "IMDB.head()"
   ],
   "id": "489834e949a2b8ad",
   "outputs": [
    {
     "data": {
      "text/plain": [
       "                                              review  sentiment\n",
       "0  One of the other reviewers has mentioned that ...          1\n",
       "1  A wonderful little production. <br /><br />The...          1\n",
       "2  I thought this was a wonderful way to spend ti...          1\n",
       "3  Basically there's a family where a little boy ...          0\n",
       "4  Petter Mattei's \"Love in the Time of Money\" is...          1"
      ],
      "text/html": [
       "<div>\n",
       "<style scoped>\n",
       "    .dataframe tbody tr th:only-of-type {\n",
       "        vertical-align: middle;\n",
       "    }\n",
       "\n",
       "    .dataframe tbody tr th {\n",
       "        vertical-align: top;\n",
       "    }\n",
       "\n",
       "    .dataframe thead th {\n",
       "        text-align: right;\n",
       "    }\n",
       "</style>\n",
       "<table border=\"1\" class=\"dataframe\">\n",
       "  <thead>\n",
       "    <tr style=\"text-align: right;\">\n",
       "      <th></th>\n",
       "      <th>review</th>\n",
       "      <th>sentiment</th>\n",
       "    </tr>\n",
       "  </thead>\n",
       "  <tbody>\n",
       "    <tr>\n",
       "      <th>0</th>\n",
       "      <td>One of the other reviewers has mentioned that ...</td>\n",
       "      <td>1</td>\n",
       "    </tr>\n",
       "    <tr>\n",
       "      <th>1</th>\n",
       "      <td>A wonderful little production. &lt;br /&gt;&lt;br /&gt;The...</td>\n",
       "      <td>1</td>\n",
       "    </tr>\n",
       "    <tr>\n",
       "      <th>2</th>\n",
       "      <td>I thought this was a wonderful way to spend ti...</td>\n",
       "      <td>1</td>\n",
       "    </tr>\n",
       "    <tr>\n",
       "      <th>3</th>\n",
       "      <td>Basically there's a family where a little boy ...</td>\n",
       "      <td>0</td>\n",
       "    </tr>\n",
       "    <tr>\n",
       "      <th>4</th>\n",
       "      <td>Petter Mattei's \"Love in the Time of Money\" is...</td>\n",
       "      <td>1</td>\n",
       "    </tr>\n",
       "  </tbody>\n",
       "</table>\n",
       "</div>"
      ]
     },
     "execution_count": 20,
     "metadata": {},
     "output_type": "execute_result"
    }
   ],
   "execution_count": 20
  },
  {
   "metadata": {
    "ExecuteTime": {
     "end_time": "2025-03-08T17:36:47.499046Z",
     "start_time": "2025-03-08T17:36:47.451252Z"
    }
   },
   "cell_type": "code",
   "source": "IMDB.info()",
   "id": "dbd18d544a16ed7a",
   "outputs": [
    {
     "name": "stdout",
     "output_type": "stream",
     "text": [
      "<class 'pandas.core.frame.DataFrame'>\n",
      "RangeIndex: 50000 entries, 0 to 49999\n",
      "Data columns (total 2 columns):\n",
      " #   Column     Non-Null Count  Dtype \n",
      "---  ------     --------------  ----- \n",
      " 0   review     50000 non-null  object\n",
      " 1   sentiment  50000 non-null  int64 \n",
      "dtypes: int64(1), object(1)\n",
      "memory usage: 781.4+ KB\n"
     ]
    }
   ],
   "execution_count": 99
  },
  {
   "metadata": {},
   "cell_type": "markdown",
   "source": "sentiment нормально перетворенний пропусків нема",
   "id": "c715b5f56abc8973"
  },
  {
   "metadata": {
    "ExecuteTime": {
     "end_time": "2025-03-08T15:22:09.881404Z",
     "start_time": "2025-03-08T15:22:09.866605Z"
    }
   },
   "cell_type": "code",
   "source": [
    "X = IMDB['review']\n",
    "y = IMDB['sentiment']\n",
    "X_train_text, X_test_text, y_train, y_test = train_test_split(X, y, test_size=0.2, random_state=42)\n"
   ],
   "id": "95f939c5d3c1f54f",
   "outputs": [],
   "execution_count": 22
  },
  {
   "metadata": {},
   "cell_type": "markdown",
   "source": "BOW",
   "id": "ca8bc7d2797dbb09"
  },
  {
   "metadata": {
    "ExecuteTime": {
     "end_time": "2025-03-08T17:20:45.929529Z",
     "start_time": "2025-03-08T17:20:45.922543Z"
    }
   },
   "cell_type": "code",
   "source": [
    "\n",
    "bow_vectorizer = CountVectorizer(\n",
    "    preprocessor=preprocess_text,\n",
    "    tokenizer=custom_tokenizer,\n",
    "    stop_words=list(custom_stop_words),\n",
    "    max_features=5000,\n",
    "    lowercase=True,\n",
    "    token_pattern=None,\n",
    ")\n"
   ],
   "id": "183d3bb6958648c",
   "outputs": [],
   "execution_count": 92
  },
  {
   "metadata": {
    "ExecuteTime": {
     "end_time": "2025-03-08T17:24:13.944488Z",
     "start_time": "2025-03-08T17:20:48.288586Z"
    }
   },
   "cell_type": "code",
   "source": [
    "X_train_bow = bow_vectorizer.fit_transform(X_train_text)\n",
    "X_test_bow = bow_vectorizer.transform(X_test_text)"
   ],
   "id": "2cda58f74f68effd",
   "outputs": [
    {
     "name": "stderr",
     "output_type": "stream",
     "text": [
      "C:\\Users\\Alex\\AppData\\Local\\Temp\\ipykernel_14240\\4177468550.py:5: MarkupResemblesLocatorWarning: The input looks more like a filename than markup. You may want to open this file and pass the filehandle into Beautiful Soup.\n",
      "  soup = BeautifulSoup(text, 'html.parser')\n"
     ]
    }
   ],
   "execution_count": 93
  },
  {
   "metadata": {
    "ExecuteTime": {
     "end_time": "2025-03-08T17:16:50.071950Z",
     "start_time": "2025-03-08T17:16:40.825770Z"
    }
   },
   "cell_type": "code",
   "source": [
    "model_bow = LogisticRegression(max_iter=1000, random_state=42)\n",
    "model_bow.fit(X_train_bow, y_train)\n",
    "y_pred_bow = model_bow.predict(X_test_bow)"
   ],
   "id": "a90d0cf214048b48",
   "outputs": [],
   "execution_count": 89
  },
  {
   "metadata": {
    "ExecuteTime": {
     "end_time": "2025-03-08T17:16:52.162894Z",
     "start_time": "2025-03-08T17:16:52.132066Z"
    }
   },
   "cell_type": "code",
   "source": [
    "print(\"Точність BOW:\", accuracy_score(y_test, y_pred_bow))\n",
    "print(\"Звіт по класифікації BOW:\\n\", classification_report(y_test, y_pred_bow))"
   ],
   "id": "3f993c7b7d0a22f1",
   "outputs": [
    {
     "name": "stdout",
     "output_type": "stream",
     "text": [
      "Точність BOW: 0.8728\n",
      "Звіт по класифікації BOW:\n",
      "               precision    recall  f1-score   support\n",
      "\n",
      "           0       0.87      0.87      0.87      4961\n",
      "           1       0.87      0.87      0.87      5039\n",
      "\n",
      "    accuracy                           0.87     10000\n",
      "   macro avg       0.87      0.87      0.87     10000\n",
      "weighted avg       0.87      0.87      0.87     10000\n",
      "\n"
     ]
    }
   ],
   "execution_count": 90
  },
  {
   "metadata": {},
   "cell_type": "markdown",
   "source": "TF-IDF",
   "id": "45340f08a18de89b"
  },
  {
   "metadata": {
    "ExecuteTime": {
     "end_time": "2025-03-08T17:31:06.253757Z",
     "start_time": "2025-03-08T17:31:06.243589Z"
    }
   },
   "cell_type": "code",
   "source": [
    "\n",
    "tfidf_vectorizer = TfidfVectorizer(\n",
    "    preprocessor=preprocess_text,\n",
    "    tokenizer=custom_tokenizer,\n",
    "    stop_words=list(custom_stop_words),\n",
    "    # max_features=10000,\n",
    "    lowercase=True,\n",
    "    token_pattern=None\n",
    ")"
   ],
   "id": "e2c9787b1a34fc4b",
   "outputs": [],
   "execution_count": 94
  },
  {
   "metadata": {
    "ExecuteTime": {
     "end_time": "2025-03-08T17:34:34.668363Z",
     "start_time": "2025-03-08T17:31:09.976974Z"
    }
   },
   "cell_type": "code",
   "source": [
    "X_train_tfidf = tfidf_vectorizer.fit_transform(X_train_text)\n",
    "X_test_tfidf = tfidf_vectorizer.transform(X_test_text)"
   ],
   "id": "db88fc9f716811c1",
   "outputs": [
    {
     "name": "stderr",
     "output_type": "stream",
     "text": [
      "C:\\Users\\Alex\\AppData\\Local\\Temp\\ipykernel_14240\\4177468550.py:5: MarkupResemblesLocatorWarning: The input looks more like a filename than markup. You may want to open this file and pass the filehandle into Beautiful Soup.\n",
      "  soup = BeautifulSoup(text, 'html.parser')\n"
     ]
    }
   ],
   "execution_count": 95
  },
  {
   "metadata": {
    "ExecuteTime": {
     "end_time": "2025-03-08T17:34:43.781189Z",
     "start_time": "2025-03-08T17:34:41.153722Z"
    }
   },
   "cell_type": "code",
   "source": [
    "model_tfidf = LogisticRegression(max_iter=1000, random_state=42)\n",
    "model_tfidf.fit(X_train_tfidf, y_train)\n",
    "y_pred_tfidf = model_tfidf.predict(X_test_tfidf)"
   ],
   "id": "dd7e2a4cf4189abc",
   "outputs": [],
   "execution_count": 96
  },
  {
   "metadata": {
    "ExecuteTime": {
     "end_time": "2025-03-08T17:34:47.950487Z",
     "start_time": "2025-03-08T17:34:47.923208Z"
    }
   },
   "cell_type": "code",
   "source": [
    "print(\"Точність TF-IDF:\", accuracy_score(y_test, y_pred_tfidf))\n",
    "print(\"Звіт по класифікації TF-IDF:\\n\", classification_report(y_test, y_pred_tfidf))"
   ],
   "id": "cc001fc6c5e70896",
   "outputs": [
    {
     "name": "stdout",
     "output_type": "stream",
     "text": [
      "Точність TF-IDF: 0.8958\n",
      "Звіт по класифікації TF-IDF:\n",
      "               precision    recall  f1-score   support\n",
      "\n",
      "           0       0.90      0.88      0.89      4961\n",
      "           1       0.89      0.91      0.90      5039\n",
      "\n",
      "    accuracy                           0.90     10000\n",
      "   macro avg       0.90      0.90      0.90     10000\n",
      "weighted avg       0.90      0.90      0.90     10000\n",
      "\n"
     ]
    }
   ],
   "execution_count": 97
  },
  {
   "metadata": {
    "ExecuteTime": {
     "end_time": "2025-03-08T17:35:44.295657Z",
     "start_time": "2025-03-08T17:35:11.886637Z"
    }
   },
   "cell_type": "code",
   "source": [
    "dt_model = KNeighborsClassifier(n_neighbors=5)\n",
    "dt_model.fit(X_train_tfidf, y_train)\n",
    "y_pred_tf = dt_model.predict(X_test_tfidf)\n",
    "print(\"Точність TF-IDF:\", accuracy_score(y_test, y_pred_tf))\n",
    "print(\"Звіт по класифікації TF-IDF:\\n\", classification_report(y_test, y_pred_tf))"
   ],
   "id": "cc37c4f39c0a28d1",
   "outputs": [
    {
     "name": "stdout",
     "output_type": "stream",
     "text": [
      "Точність TF-IDF: 0.753\n",
      "Звіт по класифікації TF-IDF:\n",
      "               precision    recall  f1-score   support\n",
      "\n",
      "           0       0.72      0.82      0.77      4961\n",
      "           1       0.79      0.69      0.74      5039\n",
      "\n",
      "    accuracy                           0.75     10000\n",
      "   macro avg       0.76      0.75      0.75     10000\n",
      "weighted avg       0.76      0.75      0.75     10000\n",
      "\n"
     ]
    }
   ],
   "execution_count": 98
  },
  {
   "metadata": {},
   "cell_type": "markdown",
   "source": [
    "По резулбтатам тренуваня моделей можна зробити такі висновки.\n",
    "TF-IDF працює краще ніж BOW причому рожширеня словніка покращює результати тож обмежувати його має сенс тільки якщо боремось за пам'ять. Також бачимо що LogisticRegression все ще залишається лідером у якості прогнозування."
   ],
   "id": "ea1399b010734f0a"
  },
  {
   "metadata": {},
   "cell_type": "code",
   "outputs": [],
   "execution_count": null,
   "source": "",
   "id": "b6997836af37b000"
  }
 ],
 "metadata": {
  "kernelspec": {
   "display_name": "Python 3",
   "name": "python3"
  },
  "language_info": {
   "codemirror_mode": {
    "name": "ipython",
    "version": 2
   },
   "file_extension": ".py",
   "mimetype": "text/x-python",
   "name": "python",
   "nbconvert_exporter": "python",
   "pygments_lexer": "ipython2",
   "version": "2.7.6"
  },
  "colab": {
   "provenance": []
  }
 },
 "nbformat": 4,
 "nbformat_minor": 5
}
